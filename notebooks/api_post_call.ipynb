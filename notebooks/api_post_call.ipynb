{
 "cells": [
  {
   "cell_type": "markdown",
   "id": "olive-hurricane",
   "metadata": {},
   "source": [
    "# API POST call"
   ]
  },
  {
   "cell_type": "code",
   "execution_count": null,
   "id": "immediate-haiti",
   "metadata": {},
   "outputs": [],
   "source": [
    "import requests\n",
    "\n",
    "from typing import Text, Dict, Tuple\n",
    "from requests.exceptions import HTTPError\n",
    "from requests.exceptions import Timeout\n",
    "\n",
    "def postResponse(url: Text, data: Dict, timeout = 3) -> Tuple[bool, Dict]:\n",
    "    try:\n",
    "        response = requests.post(url, json = data, timeout = timeout)\n",
    "    except Timeout:\n",
    "        return False, { \"error\": f'The request timed out in {timeout}s' } # Failed because of timeout\n",
    "    except Exception as err:\n",
    "        return False, { \"error\": f'And error has occured: {err}' } # failed because of some other error\n",
    "    else:\n",
    "        if response.status_code == 200:\n",
    "            return True, response.json() # Success!!!\n",
    "        else:\n",
    "            return False, { \"error\": f'Status code {response.status_code}' } # Failed as didnt get 200       \n"
   ]
  },
  {
   "cell_type": "code",
   "execution_count": null,
   "id": "endless-bread",
   "metadata": {},
   "outputs": [],
   "source": []
  }
 ],
 "metadata": {
  "kernelspec": {
   "display_name": "Python 3",
   "language": "python",
   "name": "python3"
  },
  "language_info": {
   "codemirror_mode": {
    "name": "ipython",
    "version": 3
   },
   "file_extension": ".py",
   "mimetype": "text/x-python",
   "name": "python",
   "nbconvert_exporter": "python",
   "pygments_lexer": "ipython3",
   "version": "3.8.5"
  }
 },
 "nbformat": 4,
 "nbformat_minor": 5
}
