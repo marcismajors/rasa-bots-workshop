{
 "cells": [
  {
   "cell_type": "markdown",
   "id": "imposed-graphics",
   "metadata": {},
   "source": [
    "# API GET call"
   ]
  },
  {
   "cell_type": "code",
   "execution_count": 1,
   "id": "heard-adoption",
   "metadata": {},
   "outputs": [],
   "source": [
    "import requests\n",
    "\n",
    "from typing import Text, Dict, Tuple\n",
    "from requests.exceptions import HTTPError\n",
    "from requests.exceptions import Timeout\n",
    "\n",
    "def getResponse(url: Text, timeout = 3) -> Tuple[bool, Dict]:\n",
    "    try:\n",
    "        response = requests.get(url, timeout = timeout)\n",
    "    except Timeout:\n",
    "        return False, { \"error\": f'The request timed out in {timeout}s' } # Failed because of timeout\n",
    "    except Exception as err:\n",
    "        return False, { \"error\": f'An error has occurred: {err}' } # Failed because of some other error\n",
    "    else:\n",
    "        if response.status_code == 200:\n",
    "            return True, response.json() # Success, return parsed json as Dict\n",
    "        else:\n",
    "            return False, { \"error\": f'Status code: {response.status_code}' } # Failed as didn't get 200, so something went wrong\n"
   ]
  },
  {
   "cell_type": "code",
   "execution_count": null,
   "id": "inappropriate-pension",
   "metadata": {},
   "outputs": [],
   "source": []
  }
 ],
 "metadata": {
  "kernelspec": {
   "display_name": "Python 3",
   "language": "python",
   "name": "python3"
  },
  "language_info": {
   "codemirror_mode": {
    "name": "ipython",
    "version": 3
   },
   "file_extension": ".py",
   "mimetype": "text/x-python",
   "name": "python",
   "nbconvert_exporter": "python",
   "pygments_lexer": "ipython3",
   "version": "3.8.5"
  }
 },
 "nbformat": 4,
 "nbformat_minor": 5
}
