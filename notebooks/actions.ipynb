{
 "cells": [
  {
   "cell_type": "markdown",
   "id": "little-youth",
   "metadata": {},
   "source": [
    "# Jupyter notebook for actions"
   ]
  },
  {
   "cell_type": "markdown",
   "id": "pending-pantyhose",
   "metadata": {},
   "source": [
    "Starting with import"
   ]
  },
  {
   "cell_type": "code",
   "execution_count": null,
   "id": "running-investment",
   "metadata": {},
   "outputs": [],
   "source": [
    "from typing import Any, Text, Dict, List"
   ]
  },
  {
   "cell_type": "markdown",
   "id": "middle-twins",
   "metadata": {},
   "source": [
    "And some more import - this time from rasa sdk"
   ]
  },
  {
   "cell_type": "code",
   "execution_count": null,
   "id": "latin-volunteer",
   "metadata": {},
   "outputs": [],
   "source": [
    "from rasa_sdk import Action, Tracker\n",
    "from rasa_sdk.executor import CollectingDispatcher"
   ]
  },
  {
   "cell_type": "markdown",
   "id": "interesting-precipitation",
   "metadata": {},
   "source": [
    "Now it is time to create our action function"
   ]
  },
  {
   "cell_type": "code",
   "execution_count": null,
   "id": "closing-collar",
   "metadata": {},
   "outputs": [],
   "source": [
    "class ActionGetWeather(Action):\n",
    "\n",
    "    def name(self) -> Text:\n",
    "        return \"action_get_weather\"\n",
    "\n",
    "    def run(self, dispatcher: CollectingDispatcher,\n",
    "            tracker: Tracker,\n",
    "            domain: Dict[Text, Any]) -> List[Dict[Text, Any]]:\n",
    "\n",
    "        location = tracker.get_slot('location')\n",
    "        dispatcher.utter_message(text=f\"Weather in {location} currently is ..\") # return message to the user\n",
    "        \n",
    "        return [] # returns list of rasa_sdk.events.Event instances, none in our case"
   ]
  },
  {
   "cell_type": "markdown",
   "id": "accepted-native",
   "metadata": {},
   "source": [
    "Our action class is created  \n",
    "## Let's test it \n",
    "To do that, we first we must create object of the class"
   ]
  },
  {
   "cell_type": "code",
   "execution_count": null,
   "id": "modular-court",
   "metadata": {},
   "outputs": [],
   "source": [
    "action_object = ActionGetWeather()"
   ]
  },
  {
   "cell_type": "markdown",
   "id": "separate-clinton",
   "metadata": {},
   "source": [
    "### testing function \"name\""
   ]
  },
  {
   "cell_type": "markdown",
   "id": "configured-keeping",
   "metadata": {},
   "source": [
    "Now we can call our first function and test that it actually returns action name correctly (hoping to see \"action_get_weather\")"
   ]
  },
  {
   "cell_type": "code",
   "execution_count": null,
   "id": "stretch-accent",
   "metadata": {},
   "outputs": [],
   "source": [
    "print(action_object.name()) "
   ]
  },
  {
   "cell_type": "markdown",
   "id": "everyday-preliminary",
   "metadata": {},
   "source": [
    "### testing function \"name\"\n",
    "That is a bit tricky, as this functions takes parameters - so we need to provide them this time:"
   ]
  },
  {
   "cell_type": "code",
   "execution_count": null,
   "id": "conceptual-steel",
   "metadata": {},
   "outputs": [],
   "source": [
    "from rasa.shared.core.trackers import DialogueStateTracker\n",
    "\n",
    "domain = {}\n",
    "dispatcher = CollectingDispatcher()\n",
    "tracker = DialogueStateTracker(sender_id=\"bla\", slots = []) # empty array for slots"
   ]
  },
  {
   "cell_type": "markdown",
   "id": "serious-repeat",
   "metadata": {},
   "source": [
    "When parameters are created we can finally call our function and test the result"
   ]
  },
  {
   "cell_type": "code",
   "execution_count": null,
   "id": "related-anger",
   "metadata": {},
   "outputs": [],
   "source": [
    "returned = action_object.run(dispatcher, tracker, domain)\n",
    "\n",
    "print(\"Message sent to user:\", dispatcher.messages[0]) # get back message from dispatcher and print it\n",
    "print(\"Returned:\", returned) # print return value - a list of rasa_sdk.events.Event instances - but it should be empty in our case"
   ]
  }
 ],
 "metadata": {
  "kernelspec": {
   "display_name": "Python 3",
   "language": "python",
   "name": "python3"
  },
  "language_info": {
   "codemirror_mode": {
    "name": "ipython",
    "version": 3
   },
   "file_extension": ".py",
   "mimetype": "text/x-python",
   "name": "python",
   "nbconvert_exporter": "python",
   "pygments_lexer": "ipython3",
   "version": "3.8.5"
  }
 },
 "nbformat": 4,
 "nbformat_minor": 5
}
